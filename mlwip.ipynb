{
 "cells": [
  {
   "cell_type": "markdown",
   "metadata": {},
   "source": [
    "## 6 April 8pm-Changed ML to include 'generic' time of day rendering in numerical fashion(HHMM integer format)  - also saving individual pikle files  "
   ]
  },
  {
   "cell_type": "markdown",
   "metadata": {},
   "source": [
    "Import Libraries"
   ]
  },
  {
   "cell_type": "code",
   "execution_count": 1,
   "metadata": {},
   "outputs": [],
   "source": [
    "from sqlalchemy import create_engine    \n",
    "import pandas as pd\n",
    "from datetime import date, datetime\n",
    "from sklearn.linear_model import LinearRegression, LogisticRegression\n",
    "from sklearn.model_selection import train_test_split\n",
    "import pickle\n",
    "from sklearn.neural_network import MLPRegressor\n",
    "from sklearn.model_selection import train_test_split\n",
    "from sklearn.metrics import mean_squared_error"
   ]
  },
  {
   "cell_type": "markdown",
   "metadata": {},
   "source": [
    "Creating a connection to the database"
   ]
  },
  {
   "cell_type": "code",
   "execution_count": 2,
   "metadata": {},
   "outputs": [],
   "source": [
    "APIKEY=\"\"\n",
    "             \n",
    "# create SQL engine                         \n",
    "engine = create_engine('mysql+mysqlconnector://admin:@dbike..us-east-1.rds.amazonaws.com:3306/dbikes') "
   ]
  },
  {
   "cell_type": "markdown",
   "metadata": {},
   "source": [
    "Running Query and loading it into dataframe to test connection ."
   ]
  },
  {
   "cell_type": "code",
   "execution_count": 3,
   "metadata": {},
   "outputs": [
    {
     "name": "stderr",
     "output_type": "stream",
     "text": [
      "/var/folders/b2/srz1ml_95kjgbnkt6h1zv83w0000gn/T/ipykernel_15489/1865149595.py:3: RemovedIn20Warning: Deprecated API features detected! These feature(s) are not compatible with SQLAlchemy 2.0. To prevent incompatible upgrades prior to updating applications, ensure requirements files are pinned to \"sqlalchemy<2.0\". Set environment variable SQLALCHEMY_WARN_20=1 to show all deprecation warnings.  Set environment variable SQLALCHEMY_SILENCE_UBER_WARNING=1 to silence this message. (Background on SQLAlchemy 2.0 at: https://sqlalche.me/e/b8d9)\n",
      "  results = conn.execute('SELECT  a.number AS StationNumber, (a.last_update DIV 300 * 300) AS Time, MAX(a.available_bikes) AS BikesAvailable, MAX(a.available_bike_stands) AS BikeStandsAvailable, MAX(w.temperature) AS Temp, MAX(w.humidity) AS Humidity, MAX(w.wind_speed) AS Wind FROM dbikes.availability AS a, dbikes.weather AS w WHERE (a.last_update DIV 300 * 300) = (w.timestamp DIV 300 * 300) GROUP BY a.number, (a.last_update DIV 300 * 300) ORDER BY a.number, (a.last_update DIV 300 * 300);')\n"
     ]
    },
    {
     "data": {
      "text/plain": [
       "(555864, 7)"
      ]
     },
     "execution_count": 3,
     "metadata": {},
     "output_type": "execute_result"
    }
   ],
   "source": [
    "try: \n",
    "    conn = engine.connect()\n",
    "    results = conn.execute('SELECT  a.number AS StationNumber, (a.last_update DIV 300 * 300) AS Time, MAX(a.available_bikes) AS BikesAvailable, MAX(a.available_bike_stands) AS BikeStandsAvailable, MAX(w.temperature) AS Temp, MAX(w.humity) AS Humity, MAX(w.wind_speed) AS Wind FROM dbikes.availability AS a, dbikes.weather AS w WHERE (a.last_update DIV 300 * 300) = (w.timestamp DIV 300 * 300) GROUP BY a.number, (a.last_update DIV 300 * 300) ORDER BY a.number, (a.last_update DIV 300 * 300);')\n",
    "    df = pd.DataFrame(results.fetchall())\n",
    "    rows = results.fetchall()\n",
    "except:\n",
    "    print(traceback.format_exc())\n",
    "    # return \"error in get_stations\", 404\n",
    "\n",
    "\n",
    "df.shape"
   ]
  },
  {
   "cell_type": "markdown",
   "metadata": {},
   "source": [
    "Print the number of duplicates, without the original rows that were duplicated"
   ]
  },
  {
   "cell_type": "code",
   "execution_count": 4,
   "metadata": {},
   "outputs": [
    {
     "name": "stdout",
     "output_type": "stream",
     "text": [
      "Number of duplicates, without first rows is:  0\n"
     ]
    }
   ],
   "source": [
    "print('Number of duplicates, without first rows is: ', df.duplicated().sum())"
   ]
  },
  {
   "cell_type": "markdown",
   "metadata": {},
   "source": [
    "Adding DAY_OF_WEEK(Weekday Saturday Sunday) Category "
   ]
  },
  {
   "cell_type": "code",
   "execution_count": 5,
   "metadata": {},
   "outputs": [
    {
     "data": {
      "text/html": [
       "<div>\n",
       "<style scoped>\n",
       "    .dataframe tbody tr th:only-of-type {\n",
       "        vertical-align: middle;\n",
       "    }\n",
       "\n",
       "    .dataframe tbody tr th {\n",
       "        vertical-align: top;\n",
       "    }\n",
       "\n",
       "    .dataframe thead th {\n",
       "        text-align: right;\n",
       "    }\n",
       "</style>\n",
       "<table border=\"1\" class=\"dataframe\">\n",
       "  <thead>\n",
       "    <tr style=\"text-align: right;\">\n",
       "      <th></th>\n",
       "      <th>StationNumber</th>\n",
       "      <th>BikesAvailable</th>\n",
       "      <th>BikeStandsAvailable</th>\n",
       "      <th>Temp</th>\n",
       "      <th>Humidity</th>\n",
       "      <th>Wind</th>\n",
       "      <th>Weekday</th>\n",
       "      <th>Timeday</th>\n",
       "    </tr>\n",
       "  </thead>\n",
       "  <tbody>\n",
       "    <tr>\n",
       "      <th>0</th>\n",
       "      <td>1</td>\n",
       "      <td>0</td>\n",
       "      <td>31</td>\n",
       "      <td>279.73</td>\n",
       "      <td>89</td>\n",
       "      <td>5.14</td>\n",
       "      <td>4</td>\n",
       "      <td>450</td>\n",
       "    </tr>\n",
       "    <tr>\n",
       "      <th>1</th>\n",
       "      <td>1</td>\n",
       "      <td>0</td>\n",
       "      <td>31</td>\n",
       "      <td>279.93</td>\n",
       "      <td>88</td>\n",
       "      <td>4.12</td>\n",
       "      <td>4</td>\n",
       "      <td>510</td>\n",
       "    </tr>\n",
       "    <tr>\n",
       "      <th>2</th>\n",
       "      <td>1</td>\n",
       "      <td>1</td>\n",
       "      <td>30</td>\n",
       "      <td>280.21</td>\n",
       "      <td>87</td>\n",
       "      <td>6.69</td>\n",
       "      <td>4</td>\n",
       "      <td>645</td>\n",
       "    </tr>\n",
       "    <tr>\n",
       "      <th>3</th>\n",
       "      <td>1</td>\n",
       "      <td>4</td>\n",
       "      <td>27</td>\n",
       "      <td>280.33</td>\n",
       "      <td>88</td>\n",
       "      <td>6.69</td>\n",
       "      <td>4</td>\n",
       "      <td>705</td>\n",
       "    </tr>\n",
       "    <tr>\n",
       "      <th>4</th>\n",
       "      <td>1</td>\n",
       "      <td>6</td>\n",
       "      <td>26</td>\n",
       "      <td>280.28</td>\n",
       "      <td>88</td>\n",
       "      <td>5.66</td>\n",
       "      <td>4</td>\n",
       "      <td>715</td>\n",
       "    </tr>\n",
       "    <tr>\n",
       "      <th>...</th>\n",
       "      <td>...</td>\n",
       "      <td>...</td>\n",
       "      <td>...</td>\n",
       "      <td>...</td>\n",
       "      <td>...</td>\n",
       "      <td>...</td>\n",
       "      <td>...</td>\n",
       "      <td>...</td>\n",
       "    </tr>\n",
       "    <tr>\n",
       "      <th>143</th>\n",
       "      <td>1</td>\n",
       "      <td>20</td>\n",
       "      <td>11</td>\n",
       "      <td>279.84</td>\n",
       "      <td>69</td>\n",
       "      <td>5.66</td>\n",
       "      <td>6</td>\n",
       "      <td>0</td>\n",
       "    </tr>\n",
       "    <tr>\n",
       "      <th>144</th>\n",
       "      <td>1</td>\n",
       "      <td>20</td>\n",
       "      <td>11</td>\n",
       "      <td>279.84</td>\n",
       "      <td>67</td>\n",
       "      <td>5.66</td>\n",
       "      <td>6</td>\n",
       "      <td>20</td>\n",
       "    </tr>\n",
       "    <tr>\n",
       "      <th>145</th>\n",
       "      <td>1</td>\n",
       "      <td>20</td>\n",
       "      <td>11</td>\n",
       "      <td>279.84</td>\n",
       "      <td>65</td>\n",
       "      <td>4.63</td>\n",
       "      <td>6</td>\n",
       "      <td>40</td>\n",
       "    </tr>\n",
       "    <tr>\n",
       "      <th>146</th>\n",
       "      <td>1</td>\n",
       "      <td>20</td>\n",
       "      <td>11</td>\n",
       "      <td>279.69</td>\n",
       "      <td>67</td>\n",
       "      <td>4.63</td>\n",
       "      <td>6</td>\n",
       "      <td>50</td>\n",
       "    </tr>\n",
       "    <tr>\n",
       "      <th>147</th>\n",
       "      <td>1</td>\n",
       "      <td>20</td>\n",
       "      <td>11</td>\n",
       "      <td>279.48</td>\n",
       "      <td>68</td>\n",
       "      <td>4.63</td>\n",
       "      <td>6</td>\n",
       "      <td>100</td>\n",
       "    </tr>\n",
       "  </tbody>\n",
       "</table>\n",
       "<p>148 rows × 8 columns</p>\n",
       "</div>"
      ],
      "text/plain": [
       "     StationNumber  BikesAvailable  BikeStandsAvailable    Temp  Humidity  \\\n",
       "0                1               0                   31  279.73        89   \n",
       "1                1               0                   31  279.93        88   \n",
       "2                1               1                   30  280.21        87   \n",
       "3                1               4                   27  280.33        88   \n",
       "4                1               6                   26  280.28        88   \n",
       "..             ...             ...                  ...     ...       ...   \n",
       "143              1              20                   11  279.84        69   \n",
       "144              1              20                   11  279.84        67   \n",
       "145              1              20                   11  279.84        65   \n",
       "146              1              20                   11  279.69        67   \n",
       "147              1              20                   11  279.48        68   \n",
       "\n",
       "     Wind  Weekday  Timeday  \n",
       "0    5.14        4      450  \n",
       "1    4.12        4      510  \n",
       "2    6.69        4      645  \n",
       "3    6.69        4      705  \n",
       "4    5.66        4      715  \n",
       "..    ...      ...      ...  \n",
       "143  5.66        6        0  \n",
       "144  5.66        6       20  \n",
       "145  4.63        6       40  \n",
       "146  4.63        6       50  \n",
       "147  4.63        6      100  \n",
       "\n",
       "[148 rows x 8 columns]"
      ]
     },
     "execution_count": 5,
     "metadata": {},
     "output_type": "execute_result"
    }
   ],
   "source": [
    "\n",
    "#Creating empty array to add day_of_week and time_of_day values\n",
    "day_of_week = []\n",
    "time_of_day = []\n",
    "for x in df.index:\n",
    "    week_day = datetime.weekday(date.fromtimestamp(df.loc[x, 'Time']))\n",
    "    time_of_day.append(int(datetime.fromtimestamp(df.loc[x, 'Time']).strftime('%H%M')))\n",
    "    if week_day == 6:\n",
    "       day = week_day\n",
    "    elif week_day == 5:\n",
    "       day = week_day\n",
    "    elif week_day == 4:\n",
    "       day = week_day\n",
    "    else:\n",
    "       day = 0\n",
    "    day_of_week.append(day)\n",
    "\n",
    "df['Weekday'] = day_of_week\n",
    "df['Timeday'] = time_of_day\n",
    "df = df.drop('Time',axis=1)\n",
    "\n",
    "df.head(148)"
   ]
  },
  {
   "cell_type": "markdown",
   "metadata": {},
   "source": [
    "Creating variables for Model's 'Targets & Training Variables"
   ]
  },
  {
   "cell_type": "code",
   "execution_count": 6,
   "metadata": {},
   "outputs": [],
   "source": [
    "\n",
    "#Columns classification for Logistic Regression Model \n",
    "variables_training = ['Temp', 'Humidity', 'Wind', 'Weekday', 'Timeday']\n",
    "variable_targets = ['BikesAvailable', 'BikeStandsAvailable']\n"
   ]
  },
  {
   "cell_type": "code",
   "execution_count": 7,
   "metadata": {},
   "outputs": [],
   "source": [
    "# Create list of Stations and Dictionary of Models\n",
    "stations = []\n",
    "stations.append(df['StationNumber'].unique())\n",
    "stationModels = {}"
   ]
  },
  {
   "cell_type": "code",
   "execution_count": 8,
   "metadata": {},
   "outputs": [],
   "source": [
    "# Loop to do one for each Station\n",
    "for station in stations[0]:\n",
    "\n",
    "    # Filter by Target Station\n",
    "    data = df.query('StationNumber == ' + str(station))\n",
    "\n",
    "    #Setting Model's target data\n",
    "    y = data[variable_targets]\n",
    "\n",
    "    #Setting Model's variables data\n",
    "    x = data[variables_training]\n",
    "    \n",
    "    #Splitting target data and variables data attributes into train and test tuples\n",
    "    x_train, x_test, y_train, y_test = train_test_split(x, y, test_size=0.2, random_state=42)\n",
    "    \n",
    "    # Initialize the MLPRegressor\n",
    "    stationModels[station] = MLPRegressor(hidden_layer_sizes=(100, 100), activation='relu', solver='adam', random_state=42)\n",
    "\n",
    "    #Run the Model with train tuples\n",
    "    stationModels[station].fit(x_train, y_train)\n",
    "\n",
    "    # Serialize model object into a file called model.pkl on disk using pickle\n",
    "    pkl_name = 'station' + str(station) + '.pkl'\n",
    "    with open(pkl_name, 'wb') as handle:\n",
    "        pickle.dump(stationModels[station], handle, pickle.HIGHEST_PROTOCOL)"
   ]
  },
  {
   "cell_type": "code",
   "execution_count": null,
   "metadata": {},
   "outputs": [],
   "source": []
  },
  {
   "cell_type": "code",
   "execution_count": null,
   "metadata": {},
   "outputs": [],
   "source": []
  },
  {
   "cell_type": "code",
   "execution_count": 9,
   "metadata": {},
   "outputs": [],
   "source": [
    "# predictions = linModel.predict(x_test[0:1])\n",
    "# # predictions\n",
    "\n",
    "# # Serialize model object into a file called model.pkl on disk using pickle\n",
    "# with open('model.pkl', 'wb') as handle:\n",
    "#     pickle.dump(linModel, handle, pickle.HIGHEST_PROTOCOL)\n"
   ]
  },
  {
   "cell_type": "code",
   "execution_count": 2,
   "metadata": {},
   "outputs": [],
   "source": [
    "!pip freeze > requirements.txt"
   ]
  }
 ],
 "metadata": {
  "kernelspec": {
   "display_name": "Python 3 (ipykernel)",
   "language": "python",
   "name": "python3"
  },
  "language_info": {
   "codemirror_mode": {
    "name": "ipython",
    "version": 3
   },
   "file_extension": ".py",
   "mimetype": "text/x-python",
   "name": "python",
   "nbconvert_exporter": "python",
   "pygments_lexer": "ipython3",
   "version": "3.10.8"
  }
 },
 "nbformat": 4,
 "nbformat_minor": 2
}
